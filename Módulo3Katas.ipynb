{
 "cells": [
  {
   "cell_type": "markdown",
   "metadata": {},
   "source": [
    "# Añadir el código necesario para crear una variable que guarde la velocidad del asteroide.\n",
    "# Escribe una expresión de prueba para calcular si necesita una advertencia.\n",
    "# Agregue las instrucciones que se ejecutarán si la expresión de prueba es true o false."
   ]
  },
  {
   "cell_type": "code",
   "execution_count": 2,
   "metadata": {},
   "outputs": [
    {
     "name": "stdout",
     "output_type": "stream",
     "text": [
      "Advertencia, hay un asteroide entrando a la tierra\n"
     ]
    }
   ],
   "source": [
    "velocidadAsteroide=34.6\n",
    "\n",
    "if velocidadAsteroide > 20: \n",
    "    print(\"Advertencia, hay un asteroide entrando a la tierra\")\n",
    "else:\n",
    "    print(\"Todo está bajo control\")\n"
   ]
  },
  {
   "cell_type": "markdown",
   "metadata": {},
   "source": [
    "# Agrega el código para crear una variable para un asteroide que viaja a 19 km/s\n",
    "# Escribe varias expresiones de prueba para determinar si puedes ver el rayo de luz desde la tierra\n",
    "# Agrega las instrucciones que se ejecutarán si las expresiones de prueba son True o False"
   ]
  },
  {
   "cell_type": "code",
   "execution_count": 4,
   "metadata": {},
   "outputs": [
    {
     "name": "stdout",
     "output_type": "stream",
     "text": [
      "Observa el cielo. Hay una luz extraña.\n"
     ]
    }
   ],
   "source": [
    "velocidadAsteroide = 29\n",
    "\n",
    "if velocidadAsteroide > 20:\n",
    "    print(\"Observa el cielo. Hay una luz extraña.\")\n",
    "elif velocidadAsteroide == 20:\n",
    "    print(\"Observa el cielo. Hay una luz extraña.\")\n",
    "else:\n",
    "    print(\"Sigue con tu día, todo normal.\")\n"
   ]
  },
  {
   "cell_type": "markdown",
   "metadata": {},
   "source": [
    "# Agrega el código para crear nuevas variables para la velocidad y el tamaño del asteroide\n",
    "# Para probar el código, prueba con varias velocidades y tamaños\n",
    "# Escribe varias expresiones de prueba o combinaciones de expresiones de prueba para determinar qué mensaje se debe enviar a Tierra."
   ]
  },
  {
   "cell_type": "code",
   "execution_count": 4,
   "metadata": {},
   "outputs": [
    {
     "name": "stdout",
     "output_type": "stream",
     "text": [
      "El asteroide causará mucho daño\n"
     ]
    }
   ],
   "source": [
    "velocidadAsteroide = 30\n",
    "tamanioAsteroide = 40\n",
    "\n",
    "if tamanioAsteroide > 25 and velocidadAsteroide > 25:\n",
    "   print(\"El asteroide causará mucho daño\")\n",
    "elif velocidadAsteroide >= 20:\n",
    "    print(\"Hay una luz extraña en el cielo.\")\n",
    "elif tamanioAsteroide < 25:\n",
    "    print(\"Todo bajo control. Ten un buen día.\")\n",
    "else:\n",
    "    print(\"Todo bajo control. Ten un buen día.\")\n"
   ]
  }
 ],
 "metadata": {
  "interpreter": {
   "hash": "ac90578bc2e475d04666e3fd1dbc7824e0973440a83ded22412f1aeea20f7d0d"
  },
  "kernelspec": {
   "display_name": "Python 3.10.2 64-bit",
   "language": "python",
   "name": "python3"
  },
  "language_info": {
   "codemirror_mode": {
    "name": "ipython",
    "version": 3
   },
   "file_extension": ".py",
   "mimetype": "text/x-python",
   "name": "python",
   "nbconvert_exporter": "python",
   "pygments_lexer": "ipython3",
   "version": "3.10.2"
  },
  "orig_nbformat": 4
 },
 "nbformat": 4,
 "nbformat_minor": 2
}
